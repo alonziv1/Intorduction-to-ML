{
 "cells": [
  {
   "cell_type": "code",
   "execution_count": 1,
   "metadata": {},
   "outputs": [
    {
     "ename": "ModuleNotFoundError",
     "evalue": "No module named 'Data_Preprocessing'",
     "output_type": "error",
     "traceback": [
      "\u001b[1;31m---------------------------------------------------------------------------\u001b[0m",
      "\u001b[1;31mModuleNotFoundError\u001b[0m                       Traceback (most recent call last)",
      "\u001b[1;32mc:\\Users\\alonz\\Documents\\GitHub\\Intorduction-to-ML\\Classifiers\\part_3.ipynb Cell 1'\u001b[0m in \u001b[0;36m<cell line: 7>\u001b[1;34m()\u001b[0m\n\u001b[0;32m      <a href='vscode-notebook-cell:/c%3A/Users/alonz/Documents/GitHub/Intorduction-to-ML/Classifiers/part_3.ipynb#ch0000000?line=4'>5</a>\u001b[0m \u001b[39mimport\u001b[39;00m \u001b[39mnumpy\u001b[39;00m \u001b[39mas\u001b[39;00m \u001b[39mnp\u001b[39;00m\n\u001b[0;32m      <a href='vscode-notebook-cell:/c%3A/Users/alonz/Documents/GitHub/Intorduction-to-ML/Classifiers/part_3.ipynb#ch0000000?line=5'>6</a>\u001b[0m \u001b[39mimport\u001b[39;00m \u001b[39mpandas\u001b[39;00m \u001b[39mas\u001b[39;00m \u001b[39mpd\u001b[39;00m\n\u001b[1;32m----> <a href='vscode-notebook-cell:/c%3A/Users/alonz/Documents/GitHub/Intorduction-to-ML/Classifiers/part_3.ipynb#ch0000000?line=6'>7</a>\u001b[0m \u001b[39mimport\u001b[39;00m \u001b[39mData_Preprocessing\u001b[39;00m  \n\u001b[0;32m      <a href='vscode-notebook-cell:/c%3A/Users/alonz/Documents/GitHub/Intorduction-to-ML/Classifiers/part_3.ipynb#ch0000000?line=7'>8</a>\u001b[0m \u001b[39mfrom\u001b[39;00m \u001b[39mData_Preprocessing\u001b[39;00m \u001b[39mimport\u001b[39;00m prepare_data\n",
      "\u001b[1;31mModuleNotFoundError\u001b[0m: No module named 'Data_Preprocessing'"
     ]
    }
   ],
   "source": [
    "from SoftSVM import SoftSVM\n",
    "import matplotlib.pyplot as plt\n",
    "import seaborn as sns\n",
    "import verify_gradients\n",
    "import numpy as np\n",
    "import pandas as pd\n",
    "import Data_Preprocessing  \n",
    "from Data_Preprocessing import prepare_data\n",
    "\n"
   ]
  },
  {
   "cell_type": "markdown",
   "metadata": {},
   "source": [
    "# **A13**\n"
   ]
  },
  {
   "cell_type": "markdown",
   "metadata": {},
   "source": [
    "**Creating moon dataset** "
   ]
  },
  {
   "cell_type": "code",
   "execution_count": null,
   "metadata": {},
   "outputs": [
    {
     "ename": "",
     "evalue": "",
     "output_type": "error",
     "traceback": [
      "\u001b[1;31mThe kernel failed to start due to the missing module 'prompt_toolkit.formatted_text'. Consider installing this module.\n",
      "Click <a href='https://aka.ms/kernelFailuresMissingModule'>here</a> for more info."
     ]
    }
   ],
   "source": [
    "#Creating moon dataset\n",
    "from sklearn.datasets import make_moons\n",
    "X_moons, y_moons = make_moons(n_samples=1000, shuffle=True, noise=0.05, random_state=156)\n",
    "y_moons = ((2 * y_moons) - 1)[:, None] \n",
    "print(f\"{X_moons.shape}, {y_moons.shape}\") \n",
    "plt.figure(), plt.grid(alpha=0.5), plt.title(\"Synthetic moon dataset\") \n",
    "_ = sns.scatterplot(x=X_moons[:, 0], y=X_moons[:, 1], hue=y_moons[:, 0])"
   ]
  },
  {
   "cell_type": "markdown",
   "metadata": {},
   "source": [
    "# **A14**\n"
   ]
  },
  {
   "cell_type": "markdown",
   "metadata": {},
   "source": [
    "**verify gradients**"
   ]
  },
  {
   "cell_type": "code",
   "execution_count": null,
   "metadata": {},
   "outputs": [
    {
     "ename": "",
     "evalue": "",
     "output_type": "error",
     "traceback": [
      "\u001b[1;31mThe kernel failed to start due to the missing module 'prompt_toolkit.formatted_text'. Consider installing this module.\n",
      "Click <a href='https://aka.ms/kernelFailuresMissingModule'>here</a> for more info."
     ]
    }
   ],
   "source": [
    "verify_gradients.compare_gradients(X_moons, y_moons, deltas=np.logspace(-9, -1, 12))"
   ]
  },
  {
   "cell_type": "markdown",
   "metadata": {},
   "source": [
    "# **A15**\n"
   ]
  },
  {
   "cell_type": "markdown",
   "metadata": {},
   "source": [
    "**SGD**"
   ]
  },
  {
   "cell_type": "code",
   "execution_count": null,
   "metadata": {},
   "outputs": [
    {
     "ename": "",
     "evalue": "",
     "output_type": "error",
     "traceback": [
      "\u001b[1;31mThe kernel failed to start due to the missing module 'prompt_toolkit.formatted_text'. Consider installing this module.\n",
      "Click <a href='https://aka.ms/kernelFailuresMissingModule'>here</a> for more info."
     ]
    }
   ],
   "source": [
    "clf = SoftSVM(C=1, lr=2e-4) \n",
    "losses, accuracies = clf.fit_with_logs(X_moons, y_moons, max_iter=3000) \n",
    "plt.figure(figsize=(13, 6)) \n",
    "plt.subplot(121), plt.grid(alpha=0.5), plt.title (\"Loss\") \n",
    "plt.semilogy(losses), plt.xlabel(\"itration\"), plt.ylabel(\"loss\") \n",
    "plt.subplot(122), plt.grid(alpha=0.5), plt.title (\"Accuracy\") \n",
    "plt.plot(accuracies), plt.xlabel(\"itration\"), plt.ylabel(\"accuracy\") \n",
    "plt.tight_layout()"
   ]
  },
  {
   "cell_type": "markdown",
   "metadata": {},
   "source": [
    "# **A16**\n"
   ]
  },
  {
   "cell_type": "markdown",
   "metadata": {},
   "source": [
    "**loading dataset**"
   ]
  },
  {
   "cell_type": "code",
   "execution_count": null,
   "metadata": {},
   "outputs": [
    {
     "ename": "",
     "evalue": "",
     "output_type": "error",
     "traceback": [
      "\u001b[1;31mThe kernel failed to start due to the missing module 'prompt_toolkit.formatted_text'. Consider installing this module.\n",
      "Click <a href='https://aka.ms/kernelFailuresMissingModule'>here</a> for more info."
     ]
    }
   ],
   "source": [
    "dataset = pd.read_csv(\"virus_data\")\n"
   ]
  }
 ],
 "metadata": {
  "interpreter": {
   "hash": "0066b5612c2c9ae05ce98a132f6cec80054fca11164b28b5fe5dbf1b7b6eb78a"
  },
  "kernelspec": {
   "display_name": "Python 3.10.4 64-bit",
   "language": "python",
   "name": "python3"
  },
  "language_info": {
   "codemirror_mode": {
    "name": "ipython",
    "version": 3
   },
   "file_extension": ".py",
   "mimetype": "text/x-python",
   "name": "python",
   "nbconvert_exporter": "python",
   "pygments_lexer": "ipython3",
   "version": "3.10.4"
  },
  "orig_nbformat": 4
 },
 "nbformat": 4,
 "nbformat_minor": 2
}
