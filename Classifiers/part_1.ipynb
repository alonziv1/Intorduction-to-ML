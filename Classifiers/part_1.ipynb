{
 "cells": [
  {
   "cell_type": "markdown",
   "metadata": {},
   "source": [
    "Preprocessing From the previous assignment:"
   ]
  },
  {
   "cell_type": "code",
   "execution_count": null,
   "metadata": {},
   "outputs": [],
   "source": [
    "from Data_Preprocessing import prepare_data\n",
    "import pandas as pd\n",
    "import numpy as np\n",
    "import math\n",
    "from numpy import nan\n",
    "import itertools\n",
    "import matplotlib.pyplot as plt\n",
    "import seaborn as sns\n",
    "import sklearn as sk\n",
    "from sklearn.impute import SimpleImputer\n",
    "from sklearn.feature_selection import SequentialFeatureSelector\n",
    "from sklearn.neighbors import KNeighborsClassifier\n",
    "from sklearn.model_selection import train_test_split\n",
    "!rm *.csv\n",
    "from google.colab import files\n",
    "print(\"Please load the raw csv data\")\n",
    "uploadedData = files.upload()\n",
    "filename = list(uploadedData)[0]\n",
    "dataset = pd.read_csv(filename)\n",
    "train_data, test_data= train_test_split(dataset, test_size=0.2, train_size=0.8, random_state=156)\n",
    "dataset, train_data = Data_Preprocessing.prepare_data.prepare_data(dataset, train_data)\n",
    "\n"
   ]
  },
  {
   "cell_type": "code",
   "execution_count": null,
   "metadata": {},
   "outputs": [],
   "source": [
    "# **Part 1: Basic model selection with k-Nearest Neighbors:**\n",
    "from visualize_clf import *\n",
    "# Visualization and basic analysis\n",
    "# Q1:\n",
    "temp_df = train_data[['PCR_08', 'PCR_10', 'risk']]\n",
    "p = sns.jointplot(data = temp_df, x='PCR_08', y='PCR_10', hue = 'risk')\n",
    "p.fig.suptitle(\"Marginal and joint distribution of PCR_08 and PCR_10 according to 'risk' label\")\n",
    "\n",
    "# Q2:\n",
    "from sklearn.neighbors import KNeighborsClassifier\n",
    "X = temp_df[['PCR_08', 'PCR_10']]\n",
    "y = temp_df[['risk']]\n",
    "knn = KNeighborsClassifier(n_neighbors=1)\n",
    "knn.fit(X, y)\n",
    "visualize_clf(knn, X.to_numpy(), y.to_numpy(), 'Decision Reigons - k=1 neighbor', xlabel = 'PCR_08', ylabel = 'PCR_10')\n",
    "\n",
    "# Q3:\n",
    "from sklearn.model_selection import cross_validate\n",
    "k_range = list(range(1, 20, 1)) + list(range(20, 300, 10))\n",
    "k_scores = []\n",
    "for k in k_range:\n",
    "    knn = KNeighborsClassifier(n_neighbors=k)\n",
    "    scores = cross_validate(knn, X, y, cv=5, return_train_score=True)\n",
    "    k_scores.append(scores['train_score'].mean())\n",
    "plt.plot(k_range, k_scores)\n",
    "plt.xlabel('Value of K for KNN')\n",
    "plt.ylabel('Cross-Validated Accuracy')\n",
    "plt.show()\n",
    "\n",
    "\n",
    "\n"
   ]
  }
 ],
 "metadata": {
  "interpreter": {
   "hash": "29b8d67f04085ee23fa1ff1c0dc521933267ad5766a2df817373456fc044ed66"
  },
  "kernelspec": {
   "display_name": "Python 3.9.13 64-bit (windows store)",
   "language": "python",
   "name": "python3"
  },
  "language_info": {
   "codemirror_mode": {
    "name": "ipython",
    "version": 3
   },
   "file_extension": ".py",
   "mimetype": "text/x-python",
   "name": "python",
   "nbconvert_exporter": "python",
   "pygments_lexer": "ipython3",
   "version": "3.9.13"
  },
  "orig_nbformat": 4
 },
 "nbformat": 4,
 "nbformat_minor": 2
}
