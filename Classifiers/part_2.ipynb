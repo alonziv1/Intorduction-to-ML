{
 "cells": [
  {
   "cell_type": "code",
   "execution_count": null,
   "metadata": {},
   "outputs": [],
   "source": [
    "from Data_Preprocessing import prepare_data\n",
    "import pandas as pd\n",
    "import numpy as np\n",
    "import math\n",
    "from numpy import nan\n",
    "import itertools\n",
    "import matplotlib.pyplot as plt\n",
    "import seaborn as sns\n",
    "import sklearn as sk\n",
    "from sklearn.impute import SimpleImputer\n",
    "from sklearn.feature_selection import SequentialFeatureSelector\n",
    "from sklearn.neighbors import KNeighborsClassifier\n",
    "from sklearn.model_selection import train_test_split\n",
    "!rm *.csv\n",
    "from google.colab import files\n",
    "print(\"Please load the raw csv data\")\n",
    "uploadedData = files.upload()\n",
    "filename = list(uploadedData)[0]\n",
    "dataset = pd.read_csv(filename)\n",
    "train_data, test_data= train_test_split(dataset, test_size=0.2, train_size=0.8, random_state=156)\n",
    "\n",
    "dataset['risk'].replace({1: 1, 0: -1}, inplace=True)\n",
    "train_data['risk'].replace({1: 1, 0: -1}, inplace=True)\n",
    "test_data['risk'].replace({1: 1, 0: -1}, inplace=True)\n",
    "\n",
    "dataset['spread'].replace({1: 1, 0: -1}, inplace=True)\n",
    "train_data['spread'].replace({1: 1, 0: -1}, inplace=True)\n",
    "test_data['spread'].replace({1: 1, 0: -1}, inplace=True)\n",
    "\n",
    "dataset['covid'].replace({1: 1, 0: -1}, inplace=True)\n",
    "train_data['covid'].replace({1: 1, 0: -1}, inplace=True)\n",
    "test_data['covid'].replace({1: 1, 0: -1}, inplace=True)\n",
    "\n",
    "# dataset, train_data = prepare_data(dataset, train_data)\n",
    "test_data, train_data = prepare_data(test_data, train_data)\n"
   ]
  },
  {
   "cell_type": "code",
   "execution_count": null,
   "metadata": {},
   "outputs": [],
   "source": [
    "# **Part 2: Decision trees:**\n",
    "from visualize_clf import *\n",
    "from prepare import *\n",
    "\n",
    "# Visualization and basic analysis\n",
    "# Q7: histplots from major 1\n",
    "# Q8: correlated features (not labels)\n",
    "copy = train_data.copy()\n",
    "copy = copy.drop(['risk', 'spread'], axis =1)\n",
    "corr = copy.corr()\n",
    "print(corr['covid'].sort_values())\n",
    "\n",
    "\n",
    "# Q9: Desicion trees learning\n",
    "from sklearn.tree import DecisionTreeClassifier\n",
    "from sklearn.tree import plot_tree\n",
    "clf = DecisionTreeClassifier(max_depth=4)\n",
    "X = train_data.copy().drop(['risk', 'spread', 'covid'], axis =1)\n",
    "y = train_data.copy()['covid']\n",
    "clf.fit(X, y)\n",
    "score = clf.score(X, y)\n",
    "print(\"the training accuracy is: \", score)\n",
    "\n",
    "plt.figure(figsize=(20,20))\n",
    "plot_tree(clf, filled=True, feature_names= X.columns, class_names='covid', fontsize=10)\n",
    "plt.show()"
   ]
  }
 ],
 "metadata": {
  "language_info": {
   "name": "python"
  },
  "orig_nbformat": 4
 },
 "nbformat": 4,
 "nbformat_minor": 2
}
