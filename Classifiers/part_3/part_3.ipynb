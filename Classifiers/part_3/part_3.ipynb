{
 "cells": [
  {
   "cell_type": "code",
   "execution_count": null,
   "metadata": {},
   "outputs": [],
   "source": [
    "import matplotlib.pyplot as plt\n",
    "import seaborn as sns\n",
    "import verify_gradients\n",
    "import numpy as np\n",
    "import pandas as pd\n",
    "from prepare import prepare_data\n",
    "from sklearn.impute import SimpleImputer\n",
    "from sklearn.preprocessing import PolynomialFeatures\n",
    "from sklearn.pipeline import Pipeline\n",
    "from sklearn.feature_selection import SequentialFeatureSelector\n",
    "from sklearn.neighbors import KNeighborsClassifier\n",
    "from sklearn.model_selection import train_test_split"
   ]
  },
  {
   "cell_type": "markdown",
   "metadata": {},
   "source": [
    "# **A13**\n"
   ]
  },
  {
   "cell_type": "markdown",
   "metadata": {},
   "source": [
    "**Creating moon dataset** "
   ]
  },
  {
   "cell_type": "code",
   "execution_count": null,
   "metadata": {},
   "outputs": [],
   "source": [
    "#Creating moon dataset\n",
    "from sklearn.datasets import make_moons\n",
    "X_moons, y_moons = make_moons(n_samples=1000, shuffle=True, noise=0.05, random_state=156)\n",
    "y_moons = ((2 * y_moons) - 1)[:, None] \n",
    "print(f\"{X_moons.shape}, {y_moons.shape}\") \n",
    "plt.figure(), plt.grid(alpha=0.5), plt.title(\"Synthetic moon dataset\") \n",
    "_ = sns.scatterplot(x=X_moons[:, 0], y=X_moons[:, 1], hue=y_moons[:, 0])"
   ]
  },
  {
   "cell_type": "markdown",
   "metadata": {},
   "source": [
    "# **A14**\n"
   ]
  },
  {
   "cell_type": "markdown",
   "metadata": {},
   "source": [
    "**verify gradients**"
   ]
  },
  {
   "cell_type": "code",
   "execution_count": null,
   "metadata": {},
   "outputs": [],
   "source": [
    "verify_gradients.compare_gradients(X_moons, y_moons, deltas=np.logspace(-9, -1, 12))"
   ]
  },
  {
   "cell_type": "markdown",
   "metadata": {},
   "source": [
    "# **A15**\n"
   ]
  },
  {
   "cell_type": "markdown",
   "metadata": {},
   "source": [
    "**SGD**"
   ]
  },
  {
   "cell_type": "code",
   "execution_count": null,
   "metadata": {},
   "outputs": [],
   "source": [
    "clf = SoftSVM(C=1, lr=2e-4) \n",
    "losses, accuracies = clf.fit_with_logs(X_moons, y_moons, max_iter=3000) \n",
    "plt.figure(figsize=(13, 6)) \n",
    "plt.subplot(121), plt.grid(alpha=0.5), plt.title (\"Loss\") \n",
    "plt.semilogy(losses), plt.xlabel(\"itration\"), plt.ylabel(\"loss\") \n",
    "plt.subplot(122), plt.grid(alpha=0.5), plt.title (\"Accuracy\") \n",
    "plt.plot(accuracies), plt.xlabel(\"itration\"), plt.ylabel(\"accuracy\") \n",
    "plt.tight_layout()"
   ]
  },
  {
   "cell_type": "markdown",
   "metadata": {},
   "source": [
    "# **A16**\n"
   ]
  },
  {
   "cell_type": "markdown",
   "metadata": {},
   "source": [
    "**loading dataset**"
   ]
  },
  {
   "cell_type": "code",
   "execution_count": null,
   "metadata": {},
   "outputs": [],
   "source": [
    "#@title\n",
    "\n",
    "def transform_labels(dataset):\n",
    "\n",
    "    dataset['risk'].replace({1: 1, 0: -1}, inplace=True)\n",
    "    dataset['spread'].replace({1: 1, 0: -1}, inplace=True)\n",
    "    dataset['covid'].replace({1: 1, 0: -1}, inplace=True)"
   ]
  },
  {
   "cell_type": "code",
   "execution_count": null,
   "metadata": {},
   "outputs": [],
   "source": [
    "dataset = pd.read_csv(\"virus_data.csv\")\n",
    "transform_labels(dataset)\n",
    "train_data, test_data= train_test_split(dataset, test_size=0.2, train_size=0.8, random_state=156)\n",
    "test_data, train_data = prepare_data(test_data, train_data) \n"
   ]
  },
  {
   "cell_type": "code",
   "execution_count": null,
   "metadata": {},
   "outputs": [],
   "source": [
    "plot = sns.jointplot(data = train_data, x='PCR_05', y='sugar_levels', hue = 'spread')\n",
    "plot.fig.suptitle(\"Marginal and joint distribution of PCR_05 and sugar_levels according to 'spread' label\")"
   ]
  },
  {
   "cell_type": "code",
   "execution_count": null,
   "metadata": {},
   "outputs": [],
   "source": [
    "X_train = train_data[['PCR_05','sugar_levels']]\n",
    "y_train = train_data['spread']\n",
    "X_test = test_data[['PCR_05','sugar_levels']]\n",
    "y_test = test_data['spread']"
   ]
  },
  {
   "cell_type": "code",
   "execution_count": null,
   "metadata": {},
   "outputs": [],
   "source": [
    "from SoftSVM import SoftSVM\n",
    "svm_clf = Pipeline([('feature_mapping', PolynomialFeatures(2)), ('SVM', SoftSVM(C=1e4, lr=1e-3, batch_size=32))])\n",
    "# print(type(svm_clf))\n",
    "svm_clf.fit(X_train, y_train, SVM__max_iter=10000)"
   ]
  }
 ],
 "metadata": {
  "interpreter": {
   "hash": "0066b5612c2c9ae05ce98a132f6cec80054fca11164b28b5fe5dbf1b7b6eb78a"
  },
  "kernelspec": {
   "display_name": "Python 3.10.4 64-bit",
   "language": "python",
   "name": "python3"
  },
  "language_info": {
   "codemirror_mode": {
    "name": "ipython",
    "version": 3
   },
   "file_extension": ".py",
   "mimetype": "text/x-python",
   "name": "python",
   "nbconvert_exporter": "python",
   "pygments_lexer": "ipython3",
   "version": "3.10.4"
  },
  "orig_nbformat": 4
 },
 "nbformat": 4,
 "nbformat_minor": 2
}
