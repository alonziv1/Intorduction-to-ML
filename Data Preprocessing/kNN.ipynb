{
  "nbformat": 4,
  "nbformat_minor": 0,
  "metadata": {
    "colab": {
      "name": "kNN.py",
      "provenance": [],
      "collapsed_sections": [],
      "authorship_tag": "ABX9TyO01TIa4dpjA8AH9ZpD3mfk",
      "include_colab_link": true
    },
    "kernelspec": {
      "name": "python3",
      "display_name": "Python 3"
    },
    "language_info": {
      "name": "python"
    }
  },
  "cells": [
    {
      "cell_type": "markdown",
      "metadata": {
        "id": "view-in-github",
        "colab_type": "text"
      },
      "source": [
        "<a href=\"https://colab.research.google.com/github/alonziv1/Machine-Learning/blob/main/kNN.ipynb\" target=\"_parent\"><img src=\"https://colab.research.google.com/assets/colab-badge.svg\" alt=\"Open In Colab\"/></a>"
      ]
    },
    {
      "cell_type": "code",
      "source": [
        "import numpy as np \n",
        "import pandas as pd\n",
        "from sklearn import neighbors\n",
        "from sklearn.base import BaseEstimator,ClassifierMixin\n",
        "from scipy.spatial import distance\n",
        "from scipy import stats\n",
        "\n",
        "\n",
        "class kNN(BaseEstimator, ClassifierMixin):\n",
        " \n",
        " def __init__(self, n_neighbors:int = 5):\n",
        "  self.n_neighbors = n_neighbors\n",
        " \n",
        " def fit(self, X, y):\n",
        "  self.X = np.copy(X)\n",
        "  self.y = np.copy(y)\n",
        "  return self\n",
        "\n",
        " def _predicted_label(self, neighbors_labels):\n",
        "    return stats.mode(neighbors_labels).mode[0]\n",
        "  \n",
        " def predict(self, X):\n",
        "\n",
        "    distance_matrix = distance.cdist(self.X, np.copy(X))\n",
        "    neighbors_indices_matrix = np.argpartition(distance_matrix, self.n_neighbors, axis=0)[:self.n_neighbors, :].transpose()\n",
        "    predictions = np.copy(pd.DataFrame(self.y[neighbors_indices_matrix]).agg(self._predicted_label, axis=1))\n",
        "    return predictions\n"
      ],
      "metadata": {
        "id": "xDHMH2vW18GZ"
      },
      "execution_count": null,
      "outputs": []
    }
  ]
}